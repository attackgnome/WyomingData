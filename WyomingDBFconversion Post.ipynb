{
 "cells": [
  {
   "cell_type": "markdown",
   "metadata": {},
   "source": [
    "<b>Import libraries and set viewing options"
   ]
  },
  {
   "cell_type": "code",
   "execution_count": null,
   "metadata": {},
   "outputs": [],
   "source": [
    "import pandas as pd\n",
    "from dbfread import DBF\n",
    "import numpy as np\n",
    "import matplotlib.pyplot as plt\n",
    "\n",
    "%matplotlib inline\n",
    "\n",
    "pd.set_option('display.max_columns', 500)"
   ]
  },
  {
   "cell_type": "markdown",
   "metadata": {},
   "source": [
    "<b>Import Wellhead data from dbf files and convert to dataframes"
   ]
  },
  {
   "cell_type": "code",
   "execution_count": null,
   "metadata": {},
   "outputs": [],
   "source": [
    "dbfwh = DBF('D:/Wyoming/Wyoming080219/080119_Wells/080119WH.dbf')\n",
    "dbfpa = DBF('D:/Wyoming/Wyoming080219/080119_Wells/080119PA.dbf')\n",
    "dbfwh_df = pd.DataFrame(iter(dbfwh))\n",
    "dbfpa_df = pd.DataFrame(iter(dbfpa))"
   ]
  },
  {
   "cell_type": "markdown",
   "metadata": {},
   "source": [
    "<b>Import production for all of Wyoming from their Excel files"
   ]
  },
  {
   "cell_type": "code",
   "execution_count": null,
   "metadata": {},
   "outputs": [],
   "source": [
    "County1_5 = pd.read_excel('D:/Wyoming/Wyoming080219/TTL_Prod062819/Counties01-05_062819.xlsx')\n",
    "County7_17 = pd.read_excel('D:/Wyoming/Wyoming080219/TTL_Prod062819/Counties07-17_062819.xlsx')\n",
    "County19_33 = pd.read_excel('D:/Wyoming/Wyoming080219/TTL_Prod062819/Counties19-33_062819.xlsx')\n",
    "County35_45 = pd.read_excel('D:/Wyoming/Wyoming080219/TTL_Prod062819/Counties35-45_062819.xlsx')"
   ]
  },
  {
   "cell_type": "markdown",
   "metadata": {},
   "source": [
    "<b>Put all of the production together in one dataframe, reset the index, and rearrange the columns so they are more like other oil and gas databases"
   ]
  },
  {
   "cell_type": "code",
   "execution_count": null,
   "metadata": {},
   "outputs": [],
   "source": [
    "FullWyProd81019 = pd.concat([County1_5, County7_17, County19_33, County35_45])\n",
    "FullWyProd81019 = FullWyProd81019.reset_index(drop = True)\n",
    "FullWyProd810192 = pd.concat([FullWyProd81019.iloc[:,0:3],FullWyProd81019.iloc[:,52:],FullWyProd81019.iloc[:,3:51]], axis=1)"
   ]
  },
  {
   "cell_type": "markdown",
   "metadata": {},
   "source": [
    "<b>Reshape the production dataframe so dates and years go down the column and the phases for similar timeframes are together"
   ]
  },
  {
   "cell_type": "code",
   "execution_count": null,
   "metadata": {
    "scrolled": true
   },
   "outputs": [],
   "source": [
    "FullWyProd810192_melt = FullWyProd810192.melt(id_vars =[\"APINO\", \"COMPANY\",\"YR\", \"ResCode\", \"Reservoir\"])\n",
    "FullWyProd810192_melt[[\"Month\", \"Phase\"]] = FullWyProd810192_melt[\"variable\"].str.split(\"_\", n = 1, expand = True)\n",
    "FullWyProd810192_melt = FullWyProd810192_melt.drop([\"variable\"], axis=1)\n",
    "\n",
    "months = {'JAN':1, 'FEB':2, 'MAR': 3, 'APR':4, 'MAY':5, 'JUN':6, 'JUL':7, 'AUG': 8, 'SEP': 9, \n",
    "          'OCT': 10, 'NOV': 11, 'DEC': 12}\n",
    "\n",
    "monthdays = {'JAN':31.0, 'FEB':28.0, 'MAR': 31.0, 'APR':30.0, 'MAY':31.0, 'JUN':30.0, 'JUL':31.0, 'AUG': 31.0, 'SEP': 30.0, \n",
    "             'OCT': 31.0, 'NOV': 30.0, 'DEC': 31.0}\n",
    "\n",
    "FullWyProd810192_melt[\"MonthNum\"] = FullWyProd810192_melt['Month'].map(months)\n",
    "FullWyProd810192_melt['MaxDays'] = FullWyProd810192_melt['Month'].map(monthdays)\n",
    "FullWyProd810192_melt['ActDaysOn'] = 0"
   ]
  },
  {
   "cell_type": "markdown",
   "metadata": {},
   "source": [
    "<b>Function to help out with converting incorrect month lengths to correct month lengths - Some months are more than 31, so the next two blocks will find and change that."
   ]
  },
  {
   "cell_type": "code",
   "execution_count": null,
   "metadata": {},
   "outputs": [],
   "source": [
    "def dayclean(row):\n",
    "    if row['Days_On'] > row['MaxDays']:\n",
    "        val = row['MaxDays']\n",
    "    else:\n",
    "        val = row['Days_On']\n",
    "    return val"
   ]
  },
  {
   "cell_type": "markdown",
   "metadata": {},
   "source": [
    "<b>More shaping of the dataframe, correcting month lengths, dropping unnecessary columns, and sorting values"
   ]
  },
  {
   "cell_type": "code",
   "execution_count": null,
   "metadata": {
    "scrolled": true
   },
   "outputs": [],
   "source": [
    "from functools import reduce\n",
    "\n",
    "FullWyProdOil = pd.DataFrame(FullWyProd810192_melt[FullWyProd810192_melt['Phase'] == \"OIL\"]).rename(columns={\"value\": \"Oil_bbls\", \"Phase\": \"PhaseO\"})\n",
    "FullWyProdGas = pd.DataFrame(FullWyProd810192_melt[FullWyProd810192_melt['Phase'] == \"GAS\"]).rename(columns={\"value\": \"Gas_Mcf\", \"Phase\": \"PhaseG\"})\n",
    "FullWyProdWater = pd.DataFrame(FullWyProd810192_melt[FullWyProd810192_melt['Phase'] == \"WATER\"]).rename(columns={\"value\": \"Water_bbls\", \"Phase\": \"PhaseW\"})\n",
    "FullWyProddays = pd.DataFrame(FullWyProd810192_melt[FullWyProd810192_melt['Phase'] == \"DAYS\"]).rename(columns={\"value\": \"Days_On\", \"Phase\": \"PhaseD\"})\n",
    "\n",
    "dflist = [FullWyProdOil, FullWyProdGas, FullWyProdWater, FullWyProddays]\n",
    "FullWyProd810192_final = reduce(lambda left,right: pd.merge(left,right,on=[\"APINO\", \"COMPANY\", \"YR\",\n",
    "                                                                           \"ResCode\", \"Reservoir\", \"Month\", \"MonthNum\", \"MaxDays\", \n",
    "                                                                           \"ActDaysOn\"]), dflist)\n",
    "\n",
    "FullWyProd810192_final['ActDaysOn'] = FullWyProd810192_final.apply(dayclean, axis=1)\n",
    "\n",
    "FullWyProd810192_final = FullWyProd810192_final.drop([\"PhaseO\", \"PhaseG\", \"PhaseW\", \"PhaseD\", \"MaxDays\", \"Days_On\"], \n",
    "                                                     axis = 1)\n",
    "\n",
    "FullWyProd810192_final = FullWyProd810192_final.sort_values(by = [\"APINO\", \"YR\", \"MonthNum\"]).reset_index(drop=True)\n",
    "\n",
    "FullWyProd810192_final = FullWyProd810192_final[[\"APINO\", \"COMPANY\", \"ResCode\", \"Reservoir\", \"YR\", \"Month\", \"MonthNum\", \"Oil_bbls\", \"Gas_Mcf\", \"Water_bbls\", \"ActDaysOn\"]]"
   ]
  },
  {
   "cell_type": "markdown",
   "metadata": {},
   "source": [
    "<b>Some reservoir tags are not in the database, so we are retagging them as \"NOT_AVAILABLE\" - you don't have to, it is something I do so I know I can see it if I am just scrolling through really quick."
   ]
  },
  {
   "cell_type": "code",
   "execution_count": null,
   "metadata": {},
   "outputs": [],
   "source": [
    "FullWyProd810192_final['Reservoir'] = FullWyProd810192_final['Reservoir'].fillna(\"NOT_AVAILABLE\")"
   ]
  },
  {
   "cell_type": "markdown",
   "metadata": {},
   "source": [
    "<b>Standardizing the production data to be all caps."
   ]
  },
  {
   "cell_type": "code",
   "execution_count": null,
   "metadata": {},
   "outputs": [],
   "source": [
    "FullWyProd810192_final = FullWyProd810192_final.applymap(lambda x:x.upper() if type(x) == str else x)"
   ]
  },
  {
   "cell_type": "markdown",
   "metadata": {},
   "source": [
    "<b>Join the producing well set and permanently abandonded well set for a complete well header database.  Standardize everything to capital letters, and fillna with \"NOT_AVAILABLE\" on unit code in the case of all the PandA wells."
   ]
  },
  {
   "cell_type": "code",
   "execution_count": null,
   "metadata": {
    "scrolled": true
   },
   "outputs": [],
   "source": [
    "dbfwh_df = pd.concat([dbfwh_df, dbfpa_df], axis=0, ignore_index=True)\n",
    "dbfwh_df = dbfwh_df.applymap(lambda x:x.upper() if type(x) == str else x)\n",
    "dbfwh_df['UNIT_CODE'] = dbfwh_df['UNIT_CODE'].fillna(\"NOT_AVAILABLE\")"
   ]
  },
  {
   "cell_type": "markdown",
   "metadata": {},
   "source": [
    "<b>A lot of processing to this point, save your progress and come back to it starting here."
   ]
  },
  {
   "cell_type": "markdown",
   "metadata": {},
   "source": [
    "Comment out the to_pickle lines when you are reading a dataframe.  Comment out the read_pickle lines when you are saving a dataframe"
   ]
  },
  {
   "cell_type": "code",
   "execution_count": null,
   "metadata": {},
   "outputs": [],
   "source": [
    "FullWyProd810192_final.to_pickle('D:/Wyoming/Wyoming080219/WYProd81219.pkl')\n",
    "#FullWyProd810192_final = pd.read_pickle(\"D:/Wyoming/Wyoming080219/WYProd81219.pkl\", compression='infer')\n",
    "dbfwh_df.to_pickle('D:/Wyoming/Wyoming080219/dbfwh_df.pkl')\n",
    "#dbfwh_df = pd.read_pickle(\"D:/Wyoming/Wyoming080219/dbfwh_df.pkl\", compression='infer')"
   ]
  },
  {
   "cell_type": "markdown",
   "metadata": {},
   "source": [
    "<b>These next two blocks use geopy and the lats/longs (suface and bh) to calculate lateral length and add to the number of features available if interested in calculating other values (possibly in conjunction with FracFocus) or for use in machine learning (determining optimal frac designs or better estimation of EURs, and such)."
   ]
  },
  {
   "cell_type": "code",
   "execution_count": null,
   "metadata": {},
   "outputs": [],
   "source": [
    "!pip install geopy"
   ]
  },
  {
   "cell_type": "code",
   "execution_count": null,
   "metadata": {},
   "outputs": [],
   "source": [
    "from geopy import distance\n",
    "\n",
    "latadddf = []\n",
    "\n",
    "for i in range(0, len(dbfwh_df)):\n",
    "    try:\n",
    "        if (((dbfwh_df[\"LON\"].iloc[i] and dbfwh_df[\"BLON\"].iloc[i]) < -1.0) and ((dbfwh_df[\"LAT\"].iloc[i] and dbfwh_df[\"BLAT\"].iloc[i]) > 1.0)):\n",
    "            SurfaceHole = (dbfwh_df[\"LAT\"].iloc[i], dbfwh_df[\"LON\"].iloc[i])\n",
    "            BottomHole = (dbfwh_df[\"BLAT\"].iloc[i], dbfwh_df[\"BLON\"].iloc[i])\n",
    "            Latfootage = distance.distance(SurfaceHole, BottomHole).ft\n",
    "            latadd = [dbfwh_df[\"APINO\"].iloc[i], Latfootage]\n",
    "            latadddf.append(latadd)\n",
    "        else:\n",
    "            latadd = [dbfwh_df[\"APINO\"].iloc[i], np.nan]\n",
    "            latadddf.append(latadd)\n",
    "            \n",
    "    except:\n",
    "        latadd = [dbfwh_df[\"APINO\"].iloc[i], np.nan]\n",
    "        latadddf.append(latadd)\n",
    "        \n",
    "latadddf = pd.DataFrame(latadddf, columns = [\"APINO\", \"Lateral_Footage\"])\n",
    "latadddf[\"Lateral_Footage\"] = [(latadddf[\"Lateral_Footage\"].iloc[i] * -1) if (latadddf[\"Lateral_Footage\"].iloc[i] < 0) else (latadddf[\"Lateral_Footage\"].iloc[i]) for i in range(0,len(latadddf[\"Lateral_Footage\"]))]\n",
    "dbfwh_df = dbfwh_df.merge(latadddf, left_on='APINO', right_on='APINO')"
   ]
  },
  {
   "cell_type": "markdown",
   "metadata": {},
   "source": [
    "<b>Looking at the statistics below, you may need to clean some of the lateral numbers, but for the most part, you will be able to use a great deal of them in your work."
   ]
  },
  {
   "cell_type": "code",
   "execution_count": null,
   "metadata": {
    "scrolled": true
   },
   "outputs": [],
   "source": [
    "dbfwh_df['Lateral_Footage'].describe()"
   ]
  },
  {
   "cell_type": "code",
   "execution_count": null,
   "metadata": {},
   "outputs": [],
   "source": [
    "LatLengthScatter = plt.scatter(dbfwh_df['Lateral_Footage'],dbfwh_df.index )\n",
    "LatLengthScatter;"
   ]
  },
  {
   "cell_type": "code",
   "execution_count": null,
   "metadata": {},
   "outputs": [],
   "source": [
    "LatLengthHist = plt.hist(dbfwh_df['Lateral_Footage'],bins = 100 )\n",
    "LatLengthHist;"
   ]
  },
  {
   "cell_type": "markdown",
   "metadata": {},
   "source": [
    "<b>The lateral length column is on the very right of the following final well header dataframe"
   ]
  },
  {
   "cell_type": "code",
   "execution_count": null,
   "metadata": {},
   "outputs": [],
   "source": [
    "dbfwh_df"
   ]
  },
  {
   "cell_type": "markdown",
   "metadata": {},
   "source": [
    "<b>Final production table, with north of 17 million lines"
   ]
  },
  {
   "cell_type": "code",
   "execution_count": null,
   "metadata": {
    "scrolled": true
   },
   "outputs": [],
   "source": [
    "FullWyProd810192_final"
   ]
  },
  {
   "cell_type": "code",
   "execution_count": null,
   "metadata": {},
   "outputs": [],
   "source": []
  }
 ],
 "metadata": {
  "kernelspec": {
   "display_name": "Python 3",
   "language": "python",
   "name": "python3"
  },
  "language_info": {
   "codemirror_mode": {
    "name": "ipython",
    "version": 3
   },
   "file_extension": ".py",
   "mimetype": "text/x-python",
   "name": "python",
   "nbconvert_exporter": "python",
   "pygments_lexer": "ipython3",
   "version": "3.7.1"
  }
 },
 "nbformat": 4,
 "nbformat_minor": 2
}
